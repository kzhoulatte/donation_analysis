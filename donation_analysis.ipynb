{
 "cells": [
  {
   "cell_type": "code",
   "execution_count": 1,
   "metadata": {
    "collapsed": true
   },
   "outputs": [],
   "source": [
    "import numpy as np\n",
    "import pandas as pd"
   ]
  },
  {
   "cell_type": "code",
   "execution_count": 58,
   "metadata": {},
   "outputs": [
    {
     "name": "stdout",
     "output_type": "stream",
     "text": [
      "0\n",
      "C00177436|N|M2|P|201702039042410894|15|IND|DEEHAN, WILLIAM N|ALPHARETTA|GA|300047357|UNUM|SVP, SALES, CL|01312017|384||PR2283873845050|1147350||P/R DEDUCTION ($192.00 BI-WEEKLY)|4020820171370029337\n",
      "\n",
      "{'CMTE_ID': 'C00177436', 'NAME': 'DEEHAN, WILLIAM N', 'ZIP_CODE': '30004', 'DONAR': 'DEEHAN, WILLIAM N_30004', 'TRANS_DT': '01312017', 'TRANS_AM': '384'}\n",
      "1\n",
      "C00177436|N|M2|P|201702039042410893|15|IND|WATJEN, THOMAS R.|KEY LARGO|FL|330375267|UNUM|CHAIRMAN OF THE BOARD|01042017|5000||40373239|1147350|||4020820171370029334\n",
      "\n",
      "{'CMTE_ID': 'C00177436', 'NAME': 'WATJEN, THOMAS R.', 'ZIP_CODE': '33037', 'DONAR': 'WATJEN, THOMAS R._33037', 'TRANS_DT': '01042017', 'TRANS_AM': '5000'}\n",
      "2\n",
      "C00177436|N|M2|P|201702039042410893|15|IND|SABOURIN, JAMES|LOOKOUT MOUNTAIN|GA|307502818|UNUM|SVP, CORPORATE COMMUNICATIONS|01312017|230||PR1890575345050|1147350||P/R DEDUCTION ($115.00 BI-WEEKLY)|4020820171370029335\n",
      "\n",
      "{'CMTE_ID': 'C00177436', 'NAME': 'SABOURIN, JAMES', 'ZIP_CODE': '30750', 'DONAR': 'SABOURIN, JAMES_30750', 'TRANS_DT': '01312017', 'TRANS_AM': '230'}\n",
      "3\n",
      "C00177436|N|M2|P|201702039042410893|15|IND|MAKER, SCOTT T.|NORTH YARMOUTH|ME|040976952|UNUM|SVP, DEPUTY GENERAL COUNSEL, BUSINESS|01312017|384||PR2260663445050|1147350||P/R DEDUCTION ($192.00 BI-WEEKLY)|4020820171370029336\n",
      "\n",
      "{'CMTE_ID': 'C00177436', 'NAME': 'MAKER, SCOTT T.', 'ZIP_CODE': '04097', 'DONAR': 'MAKER, SCOTT T._04097', 'TRANS_DT': '01312017', 'TRANS_AM': '384'}\n",
      "4\n",
      "C00177436|N|M2|P|201702039042410894|15|IND|PYNE, CHRISTOPHER W|COHASSET|MA|020251500|UNUM|SVP, SALES & CLIENT MGMT|01312017|230||PR2283874245050|1147350||P/R DEDUCTION ($115.00 BI-WEEKLY)|4020820171370029338\n",
      "\n",
      "{'CMTE_ID': 'C00177436', 'NAME': 'PYNE, CHRISTOPHER W', 'ZIP_CODE': '02025', 'DONAR': 'PYNE, CHRISTOPHER W_02025', 'TRANS_DT': '01312017', 'TRANS_AM': '230'}\n",
      "5\n",
      "C00177436|N|M2|P|201702039042410895|15|IND|JEROME, CHRISTOPHER|FALMOUTH|ME|041051896|UNUM|EVP, GLOBAL SERVICES|01312017|384||PR2283905245050|1147350||P/R DEDUCTION ($192.00 BI-WEEKLY)|4020820171370029342\n",
      "\n",
      "{'CMTE_ID': 'C00177436', 'NAME': 'JEROME, CHRISTOPHER', 'ZIP_CODE': '04105', 'DONAR': 'JEROME, CHRISTOPHER_04105', 'TRANS_DT': '01312017', 'TRANS_AM': '384'}\n",
      "6\n",
      "C00177436|N|M2|P|201702039042410894|15|IND|FOLEY, JOSEPH|FALMOUTH|ME|041051935|UNUM|SVP, CORP MKTG & PUBLIC RELAT.|01312017|384||PR2283904845050|1147350||P/R DEDUCTION ($192.00 BI-WEEKLY)|4020820171370029339\n",
      "\n",
      "{'CMTE_ID': 'C00177436', 'NAME': 'FOLEY, JOSEPH', 'ZIP_CODE': '04105', 'DONAR': 'FOLEY, JOSEPH_04105', 'TRANS_DT': '01312017', 'TRANS_AM': '384'}\n",
      "7\n",
      "C00177436|N|M2|P|201702039042410895|15|IND|MCGARRY, JOHN|HOLLIS CENTER|ME|040424132|UNUM|EVP & CFO|01312017|384||PR2283905045050|1147350||P/R DEDUCTION ($192.00 BI-WEEKLY)|4020820171370029340\n",
      "\n",
      "{'CMTE_ID': 'C00177436', 'NAME': 'MCGARRY, JOHN', 'ZIP_CODE': '04042', 'DONAR': 'MCGARRY, JOHN_04042', 'TRANS_DT': '01312017', 'TRANS_AM': '384'}\n",
      "8\n",
      "C00177436|N|M2|P|201702039042410895|15|IND|SIMONDS, MICHAEL Q|FALMOUTH|ME|041051972|UNUM|PRESIDENT & CEO, UNUM US|01312017|384||PR2283905145050|1147350||P/R DEDUCTION ($192.00 BI-WEEKLY)|4020820171370029341\n",
      "\n",
      "{'CMTE_ID': 'C00177436', 'NAME': 'SIMONDS, MICHAEL Q', 'ZIP_CODE': '04105', 'DONAR': 'SIMONDS, MICHAEL Q_04105', 'TRANS_DT': '01312017', 'TRANS_AM': '384'}\n",
      "9\n",
      "C00177436|N|M2|P|201702039042410896|15|IND|BOUTIN, DONALD|SACO|ME|040722246|UNUM|SVP, NATIONAL CLIENT GROUP|01312017|260||PR2283906645050|1147350||P/R DEDUCTION ($130.00 BI-WEEKLY)|4020820171370029343\n",
      "\n",
      "{'CMTE_ID': 'C00177436', 'NAME': 'BOUTIN, DONALD', 'ZIP_CODE': '04072', 'DONAR': 'BOUTIN, DONALD_04072', 'TRANS_DT': '01312017', 'TRANS_AM': '260'}\n",
      "The ith line\n",
      "10\n",
      "C00177436|N|M2|P|201702039042410896|15|IND|BOUTIN, DONALD|SACO|ME|040722246|UNUM|SVP, NATIONAL CLIENT GROUP|01312017|260||PR2283906645050|1147350||P/R DEDUCTION ($130.00 BI-WEEKLY)|4020820171370029343\n",
      "\n"
     ]
    }
   ],
   "source": [
    "i = 0 \n",
    "with open('./input/indiv18/itcont.txt') as f:\n",
    "    while i<10:\n",
    "        line = next(f)\n",
    "        donation = line.split('|')\n",
    "        \n",
    "        if len(donation[15])>0:\n",
    "            pass\n",
    "        else:\n",
    "            print(i)\n",
    "            print(line)\n",
    "            dona = dict()\n",
    "            dona['CMTE_ID'] = donation[0]\n",
    "            dona['NAME'] = donation[7]\n",
    "            dona['ZIP_CODE'] = donation[10][0:5]\n",
    "            dona['DONAR'] = donation[7]+'_'+donation[10][0:5]\n",
    "            dona['TRANS_DT'] = donation[13]\n",
    "            dona['TRANS_AM'] = donation[14]\n",
    "            #dona['OTHER_ID'] = donation[15]\n",
    "        \n",
    "            i +=1\n",
    "            print(dona)\n",
    "\n",
    "print('The ith line')\n",
    "print(i)\n",
    "print(line)"
   ]
  },
  {
   "cell_type": "code",
   "execution_count": 39,
   "metadata": {},
   "outputs": [
    {
     "data": {
      "text/plain": [
       "'C00177436|N|M2|P|201702039042410896|15|IND|BOUTIN, DONALD|SACO|ME|040722246|UNUM|SVP, NATIONAL CLIENT GROUP|01312017|260||PR2283906645050|1147350||P/R DEDUCTION ($130.00 BI-WEEKLY)|4020820171370029343\\n'"
      ]
     },
     "execution_count": 39,
     "metadata": {},
     "output_type": "execute_result"
    }
   ],
   "source": [
    "line"
   ]
  },
  {
   "cell_type": "code",
   "execution_count": 40,
   "metadata": {
    "collapsed": true
   },
   "outputs": [],
   "source": [
    "donation = line.split('|')"
   ]
  },
  {
   "cell_type": "code",
   "execution_count": 41,
   "metadata": {},
   "outputs": [
    {
     "data": {
      "text/plain": [
       "['C00177436',\n",
       " 'N',\n",
       " 'M2',\n",
       " 'P',\n",
       " '201702039042410896',\n",
       " '15',\n",
       " 'IND',\n",
       " 'BOUTIN, DONALD',\n",
       " 'SACO',\n",
       " 'ME',\n",
       " '040722246',\n",
       " 'UNUM',\n",
       " 'SVP, NATIONAL CLIENT GROUP',\n",
       " '01312017',\n",
       " '260',\n",
       " '',\n",
       " 'PR2283906645050',\n",
       " '1147350',\n",
       " '',\n",
       " 'P/R DEDUCTION ($130.00 BI-WEEKLY)',\n",
       " '4020820171370029343\\n']"
      ]
     },
     "execution_count": 41,
     "metadata": {},
     "output_type": "execute_result"
    }
   ],
   "source": [
    "donation"
   ]
  },
  {
   "cell_type": "code",
   "execution_count": 42,
   "metadata": {},
   "outputs": [
    {
     "name": "stdout",
     "output_type": "stream",
     "text": [
      "{'CMTE_ID': 'C00177436', 'NAME': 'BOUTIN, DONALD', 'ZIP_CODE': '04072', 'TRANS_DT': '01312017', 'TRANS_AM': '260', 'OTHER_ID': ''}\n"
     ]
    }
   ],
   "source": [
    "dona = dict()\n",
    "\n",
    "dona['CMTE_ID'] = donation[0]\n",
    "dona['NAME'] = donation[7]\n",
    "dona['ZIP_CODE'] = donation[10][0:5]\n",
    "dona['TRANS_DT'] = donation[13]\n",
    "dona['TRANS_AM'] = donation[14]\n",
    "dona['OTHER_ID'] = donation[15]\n",
    "print(dona)"
   ]
  },
  {
   "cell_type": "code",
   "execution_count": 1,
   "metadata": {
    "collapsed": true
   },
   "outputs": [],
   "source": [
    "from datetime import datetime\n",
    "dona = '01022013'\n",
    "TRANS_TIME = datetime.strptime(dona,'%m%d%Y')"
   ]
  },
  {
   "cell_type": "code",
   "execution_count": 4,
   "metadata": {},
   "outputs": [
    {
     "name": "stdout",
     "output_type": "stream",
     "text": [
      "2013\n"
     ]
    }
   ],
   "source": [
    "TRANS_YEAR = dona[4:8]\n",
    "print(TRANS_YEAR)"
   ]
  },
  {
   "cell_type": "code",
   "execution_count": 55,
   "metadata": {},
   "outputs": [
    {
     "data": {
      "text/plain": [
       "True"
      ]
     },
     "execution_count": 55,
     "metadata": {},
     "output_type": "execute_result"
    }
   ],
   "source": [
    "2014<=TRANS_TIME.year<=2017"
   ]
  },
  {
   "cell_type": "code",
   "execution_count": 56,
   "metadata": {},
   "outputs": [
    {
     "data": {
      "text/plain": [
       "True"
      ]
     },
     "execution_count": 56,
     "metadata": {},
     "output_type": "execute_result"
    }
   ],
   "source": [
    "1<=TRANS_TIME.month<=12"
   ]
  },
  {
   "cell_type": "code",
   "execution_count": 57,
   "metadata": {},
   "outputs": [
    {
     "data": {
      "text/plain": [
       "True"
      ]
     },
     "execution_count": 57,
     "metadata": {},
     "output_type": "execute_result"
    }
   ],
   "source": [
    "1<=TRANS_TIME.day<=31"
   ]
  },
  {
   "cell_type": "code",
   "execution_count": 59,
   "metadata": {},
   "outputs": [
    {
     "data": {
      "text/plain": [
       "True"
      ]
     },
     "execution_count": 59,
     "metadata": {},
     "output_type": "execute_result"
    }
   ],
   "source": [
    "len(dona['ZIP_CODE'])>=5"
   ]
  },
  {
   "cell_type": "code",
   "execution_count": 60,
   "metadata": {},
   "outputs": [
    {
     "data": {
      "text/plain": [
       "True"
      ]
     },
     "execution_count": 60,
     "metadata": {},
     "output_type": "execute_result"
    }
   ],
   "source": [
    "len(dona['NAME'])>0"
   ]
  },
  {
   "cell_type": "code",
   "execution_count": 61,
   "metadata": {},
   "outputs": [
    {
     "data": {
      "text/plain": [
       "True"
      ]
     },
     "execution_count": 61,
     "metadata": {},
     "output_type": "execute_result"
    }
   ],
   "source": [
    "len(dona['CMTE_ID'])>0\n",
    "len(dona['TRANS_AM'])>0"
   ]
  },
  {
   "cell_type": "code",
   "execution_count": 79,
   "metadata": {
    "collapsed": true
   },
   "outputs": [],
   "source": [
    "from collections import defaultdict\n",
    "\n",
    "Hash_donars = defaultdict(list)\n",
    "Hash_donars[dona['DONAR']].append(dona)"
   ]
  },
  {
   "cell_type": "code",
   "execution_count": 80,
   "metadata": {},
   "outputs": [
    {
     "data": {
      "text/plain": [
       "defaultdict(list,\n",
       "            {'BOUTIN, DONALD_04072': [{'CMTE_ID': 'C00177436',\n",
       "               'DONAR': 'BOUTIN, DONALD_04072',\n",
       "               'NAME': 'BOUTIN, DONALD',\n",
       "               'TRANS_AM': '260',\n",
       "               'TRANS_DT': '01312017',\n",
       "               'ZIP_CODE': '04072'}]})"
      ]
     },
     "execution_count": 80,
     "metadata": {},
     "output_type": "execute_result"
    }
   ],
   "source": [
    "Hash_donars"
   ]
  },
  {
   "cell_type": "code",
   "execution_count": 81,
   "metadata": {
    "collapsed": true
   },
   "outputs": [],
   "source": [
    "Hash_donars[dona['DONAR']].append(dona)"
   ]
  },
  {
   "cell_type": "code",
   "execution_count": 82,
   "metadata": {},
   "outputs": [
    {
     "data": {
      "text/plain": [
       "defaultdict(list,\n",
       "            {'BOUTIN, DONALD_04072': [{'CMTE_ID': 'C00177436',\n",
       "               'DONAR': 'BOUTIN, DONALD_04072',\n",
       "               'NAME': 'BOUTIN, DONALD',\n",
       "               'TRANS_AM': '260',\n",
       "               'TRANS_DT': '01312017',\n",
       "               'ZIP_CODE': '04072'},\n",
       "              {'CMTE_ID': 'C00177436',\n",
       "               'DONAR': 'BOUTIN, DONALD_04072',\n",
       "               'NAME': 'BOUTIN, DONALD',\n",
       "               'TRANS_AM': '260',\n",
       "               'TRANS_DT': '01312017',\n",
       "               'ZIP_CODE': '04072'}]})"
      ]
     },
     "execution_count": 82,
     "metadata": {},
     "output_type": "execute_result"
    }
   ],
   "source": [
    "Hash_donars"
   ]
  },
  {
   "cell_type": "code",
   "execution_count": 100,
   "metadata": {},
   "outputs": [
    {
     "name": "stdout",
     "output_type": "stream",
     "text": [
      "{'CMTE_ID': 'C00177436', 'NAME': 'BOUTIN, DONALD', 'ZIP_CODE': '04072', 'DONAR': 'BOUTIN, DONALD_04072', 'TRANS_DT': '01312017', 'TRANS_AM': '260'}\n",
      "{'CMTE_ID': 'C00177436', 'NAME': 'BOUTIN, DONALD', 'ZIP_CODE': '04072', 'DONAR': 'BOUTIN, DONALD_04072', 'TRANS_DT': '01312017', 'TRANS_AM': '260'}\n"
     ]
    }
   ],
   "source": [
    "for ss in Hash_donars['BOUTIN, DONALD_04072']:\n",
    "    print(ss)"
   ]
  },
  {
   "cell_type": "code",
   "execution_count": 83,
   "metadata": {
    "collapsed": true
   },
   "outputs": [],
   "source": [
    "from collections import defaultdict\n",
    "\n",
    "Hash_zips = defaultdict(list)\n",
    "Hash_zips[dona['ZIP_CODE']].append(dona)"
   ]
  },
  {
   "cell_type": "code",
   "execution_count": 84,
   "metadata": {},
   "outputs": [
    {
     "data": {
      "text/plain": [
       "defaultdict(list,\n",
       "            {'04072': [{'CMTE_ID': 'C00177436',\n",
       "               'DONAR': 'BOUTIN, DONALD_04072',\n",
       "               'NAME': 'BOUTIN, DONALD',\n",
       "               'TRANS_AM': '260',\n",
       "               'TRANS_DT': '01312017',\n",
       "               'ZIP_CODE': '04072'}]})"
      ]
     },
     "execution_count": 84,
     "metadata": {},
     "output_type": "execute_result"
    }
   ],
   "source": [
    "Hash_zips"
   ]
  },
  {
   "cell_type": "code",
   "execution_count": 99,
   "metadata": {},
   "outputs": [
    {
     "name": "stdout",
     "output_type": "stream",
     "text": [
      "{'CMTE_ID': 'C00177436', 'NAME': 'BOUTIN, DONALD', 'ZIP_CODE': '04072', 'DONAR': 'BOUTIN, DONALD_04072', 'TRANS_DT': '01312017', 'TRANS_AM': '260'}\n"
     ]
    }
   ],
   "source": [
    "for ss in Hash_zips['04072']:\n",
    "    print(ss)"
   ]
  },
  {
   "cell_type": "code",
   "execution_count": 85,
   "metadata": {
    "collapsed": true
   },
   "outputs": [],
   "source": [
    "def verify_date(year,month,day):\n",
    "        if 2014<=year <= 2018:\n",
    "            return 1\n",
    "        else:\n",
    "            return 0"
   ]
  },
  {
   "cell_type": "code",
   "execution_count": 93,
   "metadata": {},
   "outputs": [
    {
     "data": {
      "text/plain": [
       "1187"
      ]
     },
     "execution_count": 93,
     "metadata": {},
     "output_type": "execute_result"
    }
   ],
   "source": [
    "amounts = [23,34,300,330,500]\n",
    "\n",
    "round(np.percentile(amounts,50),2)\n",
    "np.sum(amounts)"
   ]
  },
  {
   "cell_type": "code",
   "execution_count": 103,
   "metadata": {
    "collapsed": true
   },
   "outputs": [],
   "source": [
    "a = ['100','232']"
   ]
  },
  {
   "cell_type": "code",
   "execution_count": 104,
   "metadata": {},
   "outputs": [
    {
     "data": {
      "text/plain": [
       "'100_232'"
      ]
     },
     "execution_count": 104,
     "metadata": {},
     "output_type": "execute_result"
    }
   ],
   "source": [
    "'_'.join(a)"
   ]
  },
  {
   "cell_type": "code",
   "execution_count": 114,
   "metadata": {
    "collapsed": true
   },
   "outputs": [],
   "source": [
    "a = ['roger_100','kid_100','ji_101','oi_100']"
   ]
  },
  {
   "cell_type": "code",
   "execution_count": 115,
   "metadata": {
    "collapsed": true
   },
   "outputs": [],
   "source": [
    "import re"
   ]
  },
  {
   "cell_type": "code",
   "execution_count": 121,
   "metadata": {},
   "outputs": [
    {
     "name": "stdout",
     "output_type": "stream",
     "text": [
      "['100']\n",
      "['100']\n",
      "[]\n",
      "['100']\n"
     ]
    }
   ],
   "source": [
    "zip1 = \"100\"\n",
    "\n",
    "for t in a:\n",
    "    print(re.findall(zip1+\"$\",t))"
   ]
  },
  {
   "cell_type": "code",
   "execution_count": 2,
   "metadata": {},
   "outputs": [
    {
     "data": {
      "text/plain": [
       "0"
      ]
     },
     "execution_count": 2,
     "metadata": {},
     "output_type": "execute_result"
    }
   ],
   "source": [
    "t = []\n",
    "len(t)"
   ]
  },
  {
   "cell_type": "code",
   "execution_count": 122,
   "metadata": {
    "collapsed": true
   },
   "outputs": [],
   "source": [
    "a = '100'"
   ]
  },
  {
   "cell_type": "code",
   "execution_count": 123,
   "metadata": {},
   "outputs": [
    {
     "data": {
      "text/plain": [
       "100"
      ]
     },
     "execution_count": 123,
     "metadata": {},
     "output_type": "execute_result"
    }
   ],
   "source": [
    "int(a)"
   ]
  },
  {
   "cell_type": "code",
   "execution_count": 124,
   "metadata": {},
   "outputs": [
    {
     "data": {
      "text/plain": [
       "'100'"
      ]
     },
     "execution_count": 124,
     "metadata": {},
     "output_type": "execute_result"
    }
   ],
   "source": [
    "str(100)"
   ]
  },
  {
   "cell_type": "code",
   "execution_count": null,
   "metadata": {
    "collapsed": true
   },
   "outputs": [],
   "source": []
  }
 ],
 "metadata": {
  "kernelspec": {
   "display_name": "Python 3",
   "language": "python",
   "name": "python3"
  },
  "language_info": {
   "codemirror_mode": {
    "name": "ipython",
    "version": 3
   },
   "file_extension": ".py",
   "mimetype": "text/x-python",
   "name": "python",
   "nbconvert_exporter": "python",
   "pygments_lexer": "ipython3",
   "version": "3.6.1"
  }
 },
 "nbformat": 4,
 "nbformat_minor": 2
}
